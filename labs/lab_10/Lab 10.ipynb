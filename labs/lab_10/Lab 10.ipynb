{
 "cells": [
  {
   "cell_type": "code",
   "execution_count": 3,
   "metadata": {
    "collapsed": false
   },
   "outputs": [
    {
     "name": "stdout",
     "output_type": "stream",
     "text": [
      "Point in polygon test\n",
      "Point 1 is within the polygon\n",
      "Point 2 is outside the polygon\n",
      "R-tree test\n",
      "Query result:\n",
      "[1, 3]\n"
     ]
    }
   ],
   "source": [
    "import spatial as sp\n",
    "from rtree import index"
   ]
  },
  {
   "cell_type": "markdown",
   "metadata": {},
   "source": [
    "## Part 2 - Using custom code for spatial queries\n",
    "1) Read the taxi data using python.\n",
    "\n",
    "2) Using the provided functions, identify all trips whose drop-off points are in JFK. Report the result size and query execution time.\n",
    "This is accomplished by iterating through all trips, and for each trip checking whether the drop-off location is within the query polygon of not. \n",
    "\n",
    "3) Identify all trips whose drop-off points are in LaGuardia, using the same technique as above. Report the result size and query execution time."
   ]
  },
  {
   "cell_type": "code",
   "execution_count": 4,
   "metadata": {
    "collapsed": false
   },
   "outputs": [],
   "source": [
    "def read_polygons(filename):\n",
    "    polygons = {}\n",
    "    poly = open(filename, 'r')\n",
    "    \n",
    "    while True:\n",
    "        try:\n",
    "            line = poly.readline()\n",
    "            name = line.split()[0]\n",
    "            num_points = int(poly.readline())\n",
    "            points = []\n",
    "            for i in xrange(num_points):\n",
    "                lon, lat = poly.readline().split(',')\n",
    "                lon, lat = float(lon), float(lat)\n",
    "                poly_point = sp.Point(lat, lon)\n",
    "                points.append(poly_point)\n",
    "            polygons[name] = sp.Polygon(points)\n",
    "            poly.readline()\n",
    "        except IndexError:\n",
    "            break\n",
    "    return polygons"
   ]
  },
  {
   "cell_type": "code",
   "execution_count": 46,
   "metadata": {
    "collapsed": false
   },
   "outputs": [],
   "source": [
    "def dropoff_in_polygon(filename, polygons, do='JFK', idx_intersect=None):\n",
    "    # Dropoff latitude and Longitude indexes\n",
    "    d_lat_ix = 2\n",
    "    d_long_ix = 3\n",
    "    \n",
    "    in_poly = []\n",
    "\n",
    "    j = 0\n",
    "    trips = open(filename, 'r')\n",
    "    for i, t in enumerate(trips):\n",
    "        if idx_intersect and j == len(idx_intersect):\n",
    "            break\n",
    "        elif idx_intersect and i != idx_intersect[j]:\n",
    "            continue\n",
    "        elif idx_intersect:\n",
    "            j += 1\n",
    "        splitted = t.replace('\\n', '').replace('\\r', '').split(',')\n",
    "        try:\n",
    "            d_lat = float(splitted[d_lat_ix])\n",
    "            d_long = float(splitted[d_long_ix])\n",
    "        except ValueError: # header\n",
    "            continue\n",
    "        trip_do = sp.Point(d_lat, d_long)\n",
    "        if polygons[do].contains(trip_do):\n",
    "            in_poly.append(i)\n",
    "    return in_poly"
   ]
  },
  {
   "cell_type": "code",
   "execution_count": 30,
   "metadata": {
    "collapsed": false
   },
   "outputs": [],
   "source": [
    "# Initialize polygons\n",
    "poly_filename = 'neighborhoods.txt'\n",
    "poly = read_polygons(poly_filename)"
   ]
  },
  {
   "cell_type": "code",
   "execution_count": 31,
   "metadata": {
    "collapsed": false
   },
   "outputs": [],
   "source": [
    "# Check if trips dropoff is within polygon\n",
    "def check_dropoff(data_filename, poly, do='JFK', idx_intersect=None):\n",
    "    in_poly = dropoff_in_polygon(data_filename, poly, do, idx_intersect)\n",
    "    return in_poly"
   ]
  },
  {
   "cell_type": "code",
   "execution_count": 67,
   "metadata": {
    "collapsed": false
   },
   "outputs": [
    {
     "name": "stdout",
     "output_type": "stream",
     "text": [
      "Sample data: size 151\n",
      "10 loops, best of 3: 165 ms per loop\n",
      "Taxigreen06_15: size 13979\n",
      "1 loops, best of 3: 27.7 s per loop\n"
     ]
    }
   ],
   "source": [
    "res = check_dropoff('sample-taxi-data.csv', poly)\n",
    "print 'Sample data: size', len(res)\n",
    "%timeit check_dropoff('sample-taxi-data.csv', poly)\n",
    "res = check_dropoff('taxigreen06_15.csv', poly)\n",
    "print 'Taxigreen06_15: size', len(res)\n",
    "%timeit res = check_dropoff('taxigreen06_15.csv', poly)"
   ]
  },
  {
   "cell_type": "code",
   "execution_count": 68,
   "metadata": {
    "collapsed": false
   },
   "outputs": [
    {
     "name": "stdout",
     "output_type": "stream",
     "text": [
      "Sample data: size 265\n",
      "10 loops, best of 3: 167 ms per loop\n",
      "Taxigreen06_15: size 21437\n",
      "1 loops, best of 3: 27.1 s per loop\n"
     ]
    }
   ],
   "source": [
    "res = check_dropoff('sample-taxi-data.csv', poly, 'LGA')\n",
    "print 'Sample data: size', len(res)\n",
    "%timeit check_dropoff('sample-taxi-data.csv', poly, 'LGA')\n",
    "res = check_dropoff('taxigreen06_15.csv', poly, 'LGA')\n",
    "print 'Taxigreen06_15: size', len(res)\n",
    "%timeit res = check_dropoff('taxigreen06_15.csv', poly, 'LGA')"
   ]
  },
  {
   "cell_type": "markdown",
   "metadata": {},
   "source": [
    "4) Create a R-tree index on drop-off locations using the Rtree module.\n",
    "\n",
    "5) Execute the above two queries using the Rtree. As mentioned in the lab, the Rtree only supports rectangular queries. So a polygonal query can be executed as follows:\n",
    "\n",
    "a) Obtain the bound of a given polygon\n",
    "\n",
    "b) Query on Rtree using this bound   \n",
    "\n",
    "c) For each resulting point, check if that point is within the polygon or not (using a loop, similar to (2) above)."
   ]
  },
  {
   "cell_type": "code",
   "execution_count": 8,
   "metadata": {
    "collapsed": false
   },
   "outputs": [],
   "source": [
    "def build_idx(filename):\n",
    "    # Dropoff latitude and Longitude indexes\n",
    "    d_lat_ix = 2\n",
    "    d_long_ix = 3\n",
    "    \n",
    "    idx = index.Index()\n",
    "\n",
    "    trips = open(filename, 'r')\n",
    "    for i, t in enumerate(trips):\n",
    "        splitted = t.replace('\\n', '').replace('\\r', '').split(',')\n",
    "        try:\n",
    "            d_lat = float(splitted[d_lat_ix])\n",
    "            d_long = float(splitted[d_long_ix])\n",
    "        except ValueError: # header\n",
    "            continue\n",
    "        trip_do = sp.Point(d_lat, d_long)\n",
    "        idx.insert(i, (trip_do.x,trip_do.y,trip_do.x,trip_do.y))\n",
    "    return idx"
   ]
  },
  {
   "cell_type": "code",
   "execution_count": 9,
   "metadata": {
    "collapsed": false
   },
   "outputs": [],
   "source": [
    "sample_idx = build_idx('sample-taxi-data.csv')\n",
    "data_idx = build_idx('taxigreen06_15.csv')"
   ]
  },
  {
   "cell_type": "code",
   "execution_count": 49,
   "metadata": {
    "collapsed": false
   },
   "outputs": [
    {
     "name": "stdout",
     "output_type": "stream",
     "text": [
      "Sample data: size 151\n",
      "100 loops, best of 3: 6.29 ms per loop\n",
      "Taxigreen06_15: size 13979\n",
      "1 loops, best of 3: 819 ms per loop\n"
     ]
    }
   ],
   "source": [
    "do_place = 'JFK'\n",
    "idx_intersect = list(sample_idx.intersection(poly[do_place].bounds()))\n",
    "data_intersect = list(data_idx.intersection(poly[do_place].bounds()))\n",
    "idx_intersect.sort()\n",
    "data_intersect.sort()\n",
    "res = check_dropoff('sample-taxi-data.csv', poly,  do_place, idx_intersect)\n",
    "print 'Sample data: size', len(res)\n",
    "%timeit check_dropoff('sample-taxi-data.csv', poly, do_place, idx_intersect)\n",
    "res = check_dropoff('taxigreen06_15.csv', poly, do_place, data_intersect)\n",
    "print 'Taxigreen06_15: size', len(res)\n",
    "%timeit res = check_dropoff('taxigreen06_15.csv', poly, do_place, data_intersect)"
   ]
  },
  {
   "cell_type": "code",
   "execution_count": 52,
   "metadata": {
    "collapsed": false
   },
   "outputs": [
    {
     "name": "stdout",
     "output_type": "stream",
     "text": [
      "Sample data: size 265\n",
      "100 loops, best of 3: 9.09 ms per loop\n",
      "Taxigreen06_15: size 21437\n",
      "1 loops, best of 3: 1.08 s per loop\n"
     ]
    }
   ],
   "source": [
    "do_place = 'LGA'\n",
    "idx_intersect = list(sample_idx.intersection(poly[do_place].bounds()))\n",
    "data_intersect = list(data_idx.intersection(poly[do_place].bounds()))\n",
    "idx_intersect.sort()\n",
    "data_intersect.sort()\n",
    "res = check_dropoff('sample-taxi-data.csv', poly, do_place, idx_intersect)\n",
    "print 'Sample data: size', len(res)\n",
    "%timeit check_dropoff('sample-taxi-data.csv', poly, do_place, idx_intersect)\n",
    "res = check_dropoff('taxigreen06_15.csv', poly, do_place, data_intersect)\n",
    "print 'Taxigreen06_15: size', len(res)\n",
    "%timeit res = check_dropoff('taxigreen06_15.csv', poly, do_place, data_intersect)"
   ]
  },
  {
   "cell_type": "markdown",
   "metadata": {},
   "source": [
    "6. Report the result sizes and running times. Briefly discuss why the running times are different between (2,3) and (5).\n",
    "#### Result sizes and running times for 2 on sample data and green taxi one month data\n",
    "    Sample data: size 151\n",
    "    \n",
    "    10 loops, best of 3: 165 ms per loop\n",
    "    \n",
    "    Taxigreen06_15: size 13979\n",
    "    \n",
    "    1 loops, best of 3: 27.7 s per loop\n",
    "#### Result sizes and running times for 3 on sample data and green taxi one month data\n",
    "    Sample data: size 265\n",
    "    \n",
    "    10 loops, best of 3: 167 ms per loop\n",
    "    \n",
    "    Taxigreen06_15: size 21437\n",
    "    \n",
    "    1 loops, best of 3: 27.1 s per loop\n",
    "#### Result sizes and running times for 3 on sample data and green taxi one month data\n",
    "#### JFK\n",
    "    Sample data: size 151\n",
    "    \n",
    "    100 loops, best of 3: 6.29 ms per loop\n",
    "    \n",
    "    Taxigreen06_15: size 13979\n",
    "    \n",
    "    1 loops, best of 3: 819 ms per loop\n",
    "#### LGA\n",
    "    Sample data: size 265\n",
    "    \n",
    "    100 loops, best of 3: 9.09 ms per loop\n",
    "    \n",
    "    Taxigreen06_15: size 21437\n",
    "    \n",
    "    1 loops, best of 3: 1.08 s per loop\n",
    "\n",
    "The reason why it is much faster in the second case is that we're only testing the points that intersect with the polygon bound in the point index. This decreases the number of Polygon tests considerably."
   ]
  },
  {
   "cell_type": "code",
   "execution_count": null,
   "metadata": {
    "collapsed": true
   },
   "outputs": [],
   "source": []
  }
 ],
 "metadata": {
  "kernelspec": {
   "display_name": "Python 2",
   "language": "python",
   "name": "python2"
  },
  "language_info": {
   "codemirror_mode": {
    "name": "ipython",
    "version": 2
   },
   "file_extension": ".py",
   "mimetype": "text/x-python",
   "name": "python",
   "nbconvert_exporter": "python",
   "pygments_lexer": "ipython2",
   "version": "2.7.10"
  }
 },
 "nbformat": 4,
 "nbformat_minor": 0
}
